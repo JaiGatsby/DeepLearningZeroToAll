{
 "cells": [
  {
   "cell_type": "code",
   "execution_count": 167,
   "metadata": {
    "collapsed": true
   },
   "outputs": [],
   "source": [
    "# Lab 5 Logistic Regression Classifier\n",
    "import tensorflow as tf\n",
    "import numpy as np\n",
    "import math\n",
    "\n",
    "tf.set_random_seed(777)  # for reproducibility\n",
    "\n",
    "# x_data = [[1, 2], [2, 3], [3, 1], [4, 3], [5, 3], [6, 2]]\n",
    "# y_data = [[0], [0], [0], [1], [1], [1]]\n"
   ]
  },
  {
   "cell_type": "code",
   "execution_count": 168,
   "metadata": {},
   "outputs": [],
   "source": [
    "import pandas as pd\n",
    "dataframe = pd.read_csv(\"titanic-train.csv\")\n",
    "# x_data_raw = [i[2:] for i in data[:].values] # need to remove names, change gender to binary, deal with tickets, cabin and embarked\n",
    "# # x_data = [[i] for j in x_data_raw for i in j if (type(i) !=type(\"hi\") or type(i)!=type(nan))]\n",
    "# for i in range(len(x_data_raw)):\n",
    "#     x_data_raw[i] = [k for k in x_data_raw[i] if (type(k) !=type(\"hi\"))]\n",
    "#     x_data_raw[i] = x_data_raw[i][:-1]\n",
    "# y_data = [[i] for i in data[\"Survived\"].values]\n",
    "# print(data.keys())\n",
    "# print(x_data_raw[:3])\n",
    "# print(y_data[:3])"
   ]
  },
  {
   "cell_type": "code",
   "execution_count": 169,
   "metadata": {},
   "outputs": [],
   "source": [
    "dataframe = dataframe.drop([\"PassengerId\", \"Name\", \"Ticket\"], axis=1)\n",
    "dataframe[\"Cabin\"] = dataframe[\"Cabin\"].apply(lambda data: 0 if pd.isnull(data) else 1)\n",
    "dataframe[\"Sex\"] = dataframe[\"Sex\"].apply(lambda gender: 0 if gender == \"male\" else 1)\n",
    "dataframe[\"Embarked\"] = dataframe[\"Embarked\"].apply(lambda data: 0 if data == \"S\" else 1 if data == \"Q\" else 2)\n",
    "dataframe[\"Age\"] = dataframe[\"Age\"].apply(lambda age: 0 if pd.isnull(age) else age)\n",
    "y_data = np.array([[i] for i in dataframe[\"Survived\"].values])\n",
    "x_data = np.array(dataframe.drop(\"Survived\", axis=1).values)\n",
    "\n",
    "test_dataframe = pd.read_csv(\"titanic-test.csv\")\n",
    "test_dataframe = test_dataframe.drop([\"PassengerId\", \"Name\", \"Ticket\"], axis=1)\n",
    "test_dataframe[\"Cabin\"] = test_dataframe[\"Cabin\"].apply(lambda data: 0 if pd.isnull(data) else 1)\n",
    "test_dataframe[\"Sex\"] = test_dataframe[\"Sex\"].apply(lambda gender: 0 if gender == \"male\" else 1)\n",
    "test_dataframe[\"Embarked\"] = test_dataframe[\"Embarked\"].apply(lambda data: 0 if data == \"S\" else 1 if data == \"Q\" else 2)\n",
    "test_dataframe[\"Age\"] = test_dataframe[\"Age\"].apply(lambda age: 0 if pd.isnull(age) else age)\n",
    "x_test_data = np.array(test_dataframe.values)\n"
   ]
  },
  {
   "cell_type": "markdown",
   "metadata": {},
   "source": [
    "# Notes\n",
    "#### Sigmoid function\n",
    "f(z) = 1/(1+e^-z)\n",
    "'S' like function\n",
    "Squeezes output between 0 and 1\n",
    "\n",
    "#### ylog\n",
    "Mean square error does not always work nicely, so people came up with an alternative\n",
    "if y is close to 1"
   ]
  },
  {
   "cell_type": "code",
   "execution_count": 170,
   "metadata": {},
   "outputs": [],
   "source": [
    "# placeholders for a tensor that will be always fed.\n",
    "X = tf.placeholder(tf.float32, shape=[None, 8])\n",
    "Y = tf.placeholder(tf.float32, shape=[None, 1])\n",
    "\n",
    "w1 = tf.Variable(tf.truncated_normal([8, 64], stddev=1 / math.sqrt(8)), name='weight') # [2,1] because of shape of X and Y\n",
    "b1 = tf.Variable(tf.zeros([64]), name='bias')\n",
    "\n",
    "w2 = tf.Variable(tf.truncated_normal([64, 1], stddev=1 / math.sqrt(64)), name='weight') # [2,1] because of shape of X and Y\n",
    "b2 = tf.Variable(tf.zeros([1]), name='bias')\n"
   ]
  },
  {
   "cell_type": "code",
   "execution_count": 171,
   "metadata": {
    "collapsed": true
   },
   "outputs": [],
   "source": [
    "# Hypothesis using sigmoid: tf.div(1., 1. + tf.exp(tf.matmul(X, W)))\n",
    "o1 = tf.nn.elu(tf.matmul(X, w1) + b1)\n",
    "hypothesis = tf.sigmoid(tf.matmul(o1, w2) + b2) # activation functiion\n",
    "\n",
    "# cost/loss function\n",
    "cost = -tf.reduce_mean(Y * tf.log(hypothesis + 1e-15) + (1 - Y) *\n",
    "                       tf.log(1 - hypothesis + 1e-15))\n",
    "\n",
    "train = tf.train.AdamOptimizer(learning_rate=0.01).minimize(cost)"
   ]
  },
  {
   "cell_type": "code",
   "execution_count": 172,
   "metadata": {
    "collapsed": true
   },
   "outputs": [],
   "source": [
    "# Accuracy computation\n",
    "# True if hypothesis>0.5 else False\n",
    "#accuracy = tf.reduce_mean(tf.cast(tf.equal(tf.argmax(hypothesis, 1), tf.argmax(Y, 1)), dtype=tf.float32))\n"
   ]
  },
  {
   "cell_type": "code",
   "execution_count": 180,
   "metadata": {},
   "outputs": [
    {
     "name": "stdout",
     "output_type": "stream",
     "text": [
      "0 1.83996\n",
      "500 0.334309\n",
      "1000 0.297143\n",
      "1500 0.255449\n",
      "2000 0.239503\n",
      "2500 0.225591\n",
      "3000 0.219235\n",
      "3500 0.207692\n",
      "4000 0.197052\n",
      "4500 0.189266\n",
      "5000 0.18192\n",
      "5500 0.236901\n",
      "6000 0.173025\n",
      "6500 0.176991\n",
      "7000 0.166614\n",
      "7500 0.165835\n",
      "8000 0.161671\n",
      "8500 0.159246\n",
      "9000 0.156656\n",
      "9500 0.154322\n",
      "10000 0.15193\n"
     ]
    },
    {
     "ename": "TypeError",
     "evalue": "'j' is an invalid keyword argument for this function",
     "output_type": "error",
     "traceback": [
      "\u001b[1;31m---------------------------------------------------------------------------\u001b[0m",
      "\u001b[1;31mTypeError\u001b[0m                                 Traceback (most recent call last)",
      "\u001b[1;32m<ipython-input-180-e3411d54ed4c>\u001b[0m in \u001b[0;36m<module>\u001b[1;34m()\u001b[0m\n\u001b[0;32m     12\u001b[0m     h = sess.run(hypothesis,\n\u001b[0;32m     13\u001b[0m                        feed_dict={X: x_test_data})\n\u001b[1;32m---> 14\u001b[1;33m     \u001b[0mprint\u001b[0m\u001b[1;33m(\u001b[0m\u001b[0mj\u001b[0m \u001b[1;33m=\u001b[0m\u001b[0mtf\u001b[0m\u001b[1;33m.\u001b[0m\u001b[0mround\u001b[0m\u001b[1;33m(\u001b[0m\u001b[0mh\u001b[0m\u001b[1;33m)\u001b[0m\u001b[1;33m.\u001b[0m\u001b[0meval\u001b[0m\u001b[1;33m(\u001b[0m\u001b[1;33m)\u001b[0m\u001b[1;33m)\u001b[0m\u001b[1;33m\u001b[0m\u001b[0m\n\u001b[0m",
      "\u001b[1;31mTypeError\u001b[0m: 'j' is an invalid keyword argument for this function"
     ]
    }
   ],
   "source": [
    "# Launch graph\n",
    "with tf.Session() as sess:\n",
    "    # Initialize TensorFlow variables\n",
    "    sess.run(tf.global_variables_initializer())\n",
    "\n",
    "    for step in range(10001):\n",
    "        cost_val, _ = sess.run([cost, train], feed_dict={X: x_data, Y: y_data})\n",
    "        if step % 500 == 0:\n",
    "            print(step, cost_val)\n",
    "\n",
    "    # Accuracy report\n",
    "    h = sess.run(hypothesis,\n",
    "                       feed_dict={X: x_test_data})\n",
    "    print(tf.round(h).eval())"
   ]
  },
  {
   "cell_type": "code",
   "execution_count": 176,
   "metadata": {},
   "outputs": [],
   "source": []
  },
  {
   "cell_type": "code",
   "execution_count": 179,
   "metadata": {},
   "outputs": [
    {
     "ename": "ValueError",
     "evalue": "Cannot evaluate tensor using `eval()`: No default session is registered. Use `with sess.as_default()` or pass an explicit session to `eval(session=sess)`",
     "output_type": "error",
     "traceback": [
      "\u001b[1;31m---------------------------------------------------------------------------\u001b[0m",
      "\u001b[1;31mValueError\u001b[0m                                Traceback (most recent call last)",
      "\u001b[1;32m<ipython-input-179-da1112c064f3>\u001b[0m in \u001b[0;36m<module>\u001b[1;34m()\u001b[0m\n\u001b[1;32m----> 1\u001b[1;33m \u001b[0mprint\u001b[0m\u001b[1;33m(\u001b[0m\u001b[0mpredVal\u001b[0m\u001b[1;33m.\u001b[0m\u001b[0meval\u001b[0m\u001b[1;33m(\u001b[0m\u001b[0msess\u001b[0m\u001b[1;33m)\u001b[0m\u001b[1;33m)\u001b[0m\u001b[1;33m\u001b[0m\u001b[0m\n\u001b[0m",
      "\u001b[1;32mC:\\Users\\user\\Anaconda3\\envs\\Tflow\\lib\\site-packages\\tensorflow\\python\\framework\\ops.py\u001b[0m in \u001b[0;36meval\u001b[1;34m(self, feed_dict, session)\u001b[0m\n\u001b[0;32m    565\u001b[0m \u001b[1;33m\u001b[0m\u001b[0m\n\u001b[0;32m    566\u001b[0m     \"\"\"\n\u001b[1;32m--> 567\u001b[1;33m     \u001b[1;32mreturn\u001b[0m \u001b[0m_eval_using_default_session\u001b[0m\u001b[1;33m(\u001b[0m\u001b[0mself\u001b[0m\u001b[1;33m,\u001b[0m \u001b[0mfeed_dict\u001b[0m\u001b[1;33m,\u001b[0m \u001b[0mself\u001b[0m\u001b[1;33m.\u001b[0m\u001b[0mgraph\u001b[0m\u001b[1;33m,\u001b[0m \u001b[0msession\u001b[0m\u001b[1;33m)\u001b[0m\u001b[1;33m\u001b[0m\u001b[0m\n\u001b[0m\u001b[0;32m    568\u001b[0m \u001b[1;33m\u001b[0m\u001b[0m\n\u001b[0;32m    569\u001b[0m \u001b[1;33m\u001b[0m\u001b[0m\n",
      "\u001b[1;32mC:\\Users\\user\\Anaconda3\\envs\\Tflow\\lib\\site-packages\\tensorflow\\python\\framework\\ops.py\u001b[0m in \u001b[0;36m_eval_using_default_session\u001b[1;34m(tensors, feed_dict, graph, session)\u001b[0m\n\u001b[0;32m   3713\u001b[0m     \u001b[0msession\u001b[0m \u001b[1;33m=\u001b[0m \u001b[0mget_default_session\u001b[0m\u001b[1;33m(\u001b[0m\u001b[1;33m)\u001b[0m\u001b[1;33m\u001b[0m\u001b[0m\n\u001b[0;32m   3714\u001b[0m     \u001b[1;32mif\u001b[0m \u001b[0msession\u001b[0m \u001b[1;32mis\u001b[0m \u001b[1;32mNone\u001b[0m\u001b[1;33m:\u001b[0m\u001b[1;33m\u001b[0m\u001b[0m\n\u001b[1;32m-> 3715\u001b[1;33m       raise ValueError(\"Cannot evaluate tensor using `eval()`: No default \"\n\u001b[0m\u001b[0;32m   3716\u001b[0m                        \u001b[1;34m\"session is registered. Use `with \"\u001b[0m\u001b[1;33m\u001b[0m\u001b[0m\n\u001b[0;32m   3717\u001b[0m                        \u001b[1;34m\"sess.as_default()` or pass an explicit session to \"\u001b[0m\u001b[1;33m\u001b[0m\u001b[0m\n",
      "\u001b[1;31mValueError\u001b[0m: Cannot evaluate tensor using `eval()`: No default session is registered. Use `with sess.as_default()` or pass an explicit session to `eval(session=sess)`"
     ]
    }
   ],
   "source": []
  },
  {
   "cell_type": "code",
   "execution_count": null,
   "metadata": {
    "collapsed": true
   },
   "outputs": [],
   "source": []
  },
  {
   "cell_type": "code",
   "execution_count": null,
   "metadata": {
    "collapsed": true
   },
   "outputs": [],
   "source": []
  }
 ],
 "metadata": {
  "kernelspec": {
   "display_name": "Python 3",
   "language": "python",
   "name": "python3"
  },
  "language_info": {
   "codemirror_mode": {
    "name": "ipython",
    "version": 3
   },
   "file_extension": ".py",
   "mimetype": "text/x-python",
   "name": "python",
   "nbconvert_exporter": "python",
   "pygments_lexer": "ipython3",
   "version": "3.5.3"
  }
 },
 "nbformat": 4,
 "nbformat_minor": 2
}
