{
 "cells": [
  {
   "cell_type": "markdown",
   "metadata": {},
   "source": [
    "### NN tips\n",
    "* Initialization Weights\n",
    "<br>For weights, we start with random weights\n",
    "But there is a really good initializer called Xavier Initializer\n",
    "* Activation functions\n",
    "<br>other alternatives\n",
    "tanh => from (-1,1),\n",
    "sigmoid => from(0,1),\n",
    "tf.nn.relu => 0 for x<0, and x for x>=0\n",
    "* Regularization\n",
    "<br>Overfit detection ->\n",
    "Very high results on training and low on test\n",
    "use regularization\n",
    "Dropout ->\n",
    "   we cut some random edges in the net graph everytime we train \n",
    "<br>\n",
    "```python\n",
    "tf.nn.dropout(Layer, keep_prob = tf.placeholder)\n",
    "```\n",
    "* Optimizers\n",
    "<br>Alternatives\n",
    "AdamOptimizer(),"
   ]
  },
  {
   "cell_type": "markdown",
   "metadata": {},
   "source": [
    "## CNN\n",
    "We take a filter, and we apply that tiny filter over the entire image and stitch it together\n",
    "\n",
    "For example, take a 7X7 matrix\n",
    "Look at it 3x3 blocks\n",
    "It will be run 25 times over the 7x7 block\n",
    "5x5 output\n",
    "\n",
    "We might use a larger 'stride'\n",
    "for example if you use stride 2, the 3x3 block would take 3x3 output\n",
    "\n",
    "If stride doesnt fit the data, we might pad the data with zeroes to the boundaries to allow\n",
    "\n",
    "Use multiple filters to generate many activation maps\n",
    "\n"
   ]
  },
  {
   "cell_type": "code",
   "execution_count": null,
   "metadata": {
    "collapsed": true
   },
   "outputs": [],
   "source": []
  }
 ],
 "metadata": {
  "kernelspec": {
   "display_name": "Python 3",
   "language": "python",
   "name": "python3"
  },
  "language_info": {
   "codemirror_mode": {
    "name": "ipython",
    "version": 3
   },
   "file_extension": ".py",
   "mimetype": "text/x-python",
   "name": "python",
   "nbconvert_exporter": "python",
   "pygments_lexer": "ipython3",
   "version": "3.5.3"
  }
 },
 "nbformat": 4,
 "nbformat_minor": 2
}
